{
 "cells": [
  {
   "cell_type": "code",
   "execution_count": 1,
   "id": "269c4047",
   "metadata": {},
   "outputs": [],
   "source": [
    "import numpy as np\n",
    "import pandas as pd\n",
    "from sklearn.model_selection import train_test_split\n",
    "from sklearn.compose import ColumnTransformer\n",
    "from sklearn.preprocessing import OneHotEncoder\n",
    "from sklearn.linear_model import LogisticRegression\n",
    "from sklearn.pipeline import Pipeline\n",
    "import pickle"
   ]
  },
  {
   "cell_type": "code",
   "execution_count": 2,
   "id": "3ed84faf",
   "metadata": {},
   "outputs": [],
   "source": [
    "match = pd.read_csv('matches.csv')\n",
    "delivery = pd.read_csv('deliveries.csv')"
   ]
  },
  {
   "cell_type": "code",
   "execution_count": 3,
   "id": "b76c3bd1",
   "metadata": {},
   "outputs": [],
   "source": [
    "total_score_df = delivery.groupby(['match_id', 'inning']).sum()['total_runs'].reset_index()"
   ]
  },
  {
   "cell_type": "code",
   "execution_count": 4,
   "id": "60828b89",
   "metadata": {},
   "outputs": [],
   "source": [
    "total_score_df = total_score_df[total_score_df['inning'] == 1]"
   ]
  },
  {
   "cell_type": "code",
   "execution_count": 5,
   "id": "722aa294",
   "metadata": {},
   "outputs": [],
   "source": [
    "match_df = match.merge(total_score_df[['match_id', 'total_runs']], left_on='id', right_on='match_id')"
   ]
  },
  {
   "cell_type": "code",
   "execution_count": 6,
   "id": "31c00cc5",
   "metadata": {},
   "outputs": [],
   "source": [
    "teams = ['Sunrisers Hyderabad',\n",
    "         'Mumbai Indians',\n",
    "         'Royal Challengers Bangalore',\n",
    "         'Kolkata Knight Riders',\n",
    "         'Kings XI Punjab',\n",
    "         'Chennai Super Kings',\n",
    "         'Rajasthan Royals',\n",
    "         'Delhi Capitals']"
   ]
  },
  {
   "cell_type": "code",
   "execution_count": 7,
   "id": "9b8b136f",
   "metadata": {},
   "outputs": [],
   "source": [
    "match_df['team1'] = match_df['team1'].str.replace('Delhi Daredevils', 'Delhi Capitals')\n",
    "match_df['team2'] = match_df['team2'].str.replace('Delhi Daredevils', 'Delhi Capitals')\n",
    "\n",
    "match_df['team1'] = match_df['team1'].str.replace('Deccan Chargers', 'Sunrisers Hyderabad')\n",
    "match_df['team2'] = match_df['team2'].str.replace('Deccan Chargers', 'Sunrisers Hyderabad')"
   ]
  },
  {
   "cell_type": "code",
   "execution_count": 8,
   "id": "e00a9ea5",
   "metadata": {},
   "outputs": [],
   "source": [
    "match_df = match_df[match_df['team1'].isin(teams)]\n",
    "match_df = match_df[match_df['team2'].isin(teams)]"
   ]
  },
  {
   "cell_type": "code",
   "execution_count": 9,
   "id": "cd408e61",
   "metadata": {},
   "outputs": [],
   "source": [
    "match_df = match_df[match_df['dl_applied'] == 0]\n",
    "match_df = match_df[['match_id', 'city', 'winner', 'total_runs']]"
   ]
  },
  {
   "cell_type": "code",
   "execution_count": 10,
   "id": "75fb1b9b",
   "metadata": {},
   "outputs": [],
   "source": [
    "delivery_df = match_df.merge(delivery, on='match_id')\n",
    "delivery_df = delivery_df[delivery_df['inning'] == 2]"
   ]
  },
  {
   "cell_type": "code",
   "execution_count": 11,
   "id": "e0c170cb",
   "metadata": {},
   "outputs": [],
   "source": [
    "delivery_df['current_score'] = delivery_df.groupby('match_id').cumsum()['total_runs_y']\n",
    "\n",
    "delivery_df['runs_left'] = delivery_df['total_runs_x'] - delivery_df['current_score']\n",
    "\n",
    "delivery_df['balls_left'] = 126 - (delivery_df['over']*6 + delivery_df['ball'])"
   ]
  },
  {
   "cell_type": "code",
   "execution_count": 12,
   "id": "b522a6a0",
   "metadata": {},
   "outputs": [],
   "source": [
    "delivery_df['player_dismissed'] = delivery_df['player_dismissed'].fillna('0')\n",
    "delivery_df['player_dismissed'] = delivery_df['player_dismissed'].apply(lambda x: x if x == '0' else '1')\n",
    "delivery_df['player_dismissed'] = delivery_df['player_dismissed'].astype('int')\n",
    "wickets = delivery_df.groupby('match_id').cumsum()['player_dismissed'].values\n",
    "delivery_df['wickets'] = 10 - wickets"
   ]
  },
  {
   "cell_type": "code",
   "execution_count": 13,
   "id": "f22aa902",
   "metadata": {},
   "outputs": [],
   "source": [
    "delivery_df['crr'] = (delivery_df['current_score']*6)/(120 - delivery_df['balls_left'])\n",
    "\n",
    "delivery_df['rrr'] = (delivery_df['runs_left']*6)/delivery_df['balls_left']"
   ]
  },
  {
   "cell_type": "code",
   "execution_count": 14,
   "id": "c731c640",
   "metadata": {},
   "outputs": [],
   "source": [
    "def result(row):\n",
    "    return 1 if row['batting_team'] == row['winner'] else 0"
   ]
  },
  {
   "cell_type": "code",
   "execution_count": 15,
   "id": "fc57b7c3",
   "metadata": {},
   "outputs": [],
   "source": [
    "delivery_df['result'] = delivery_df.apply(result, axis=1)"
   ]
  },
  {
   "cell_type": "code",
   "execution_count": 16,
   "id": "dec0bd73",
   "metadata": {},
   "outputs": [],
   "source": [
    "final_df = delivery_df[['batting_team', 'bowling_team', 'city', 'runs_left',\n",
    "                       'balls_left', 'wickets', 'total_runs_x', 'crr', 'rrr', 'result']]"
   ]
  },
  {
   "cell_type": "code",
   "execution_count": 17,
   "id": "a9b60c98",
   "metadata": {},
   "outputs": [],
   "source": [
    "final_df = final_df.sample(final_df.shape[0])"
   ]
  },
  {
   "cell_type": "code",
   "execution_count": 18,
   "id": "2949d431",
   "metadata": {},
   "outputs": [],
   "source": [
    "final_df.dropna(inplace=True)\n",
    "final_df = final_df[final_df['balls_left'] != 0]"
   ]
  },
  {
   "cell_type": "code",
   "execution_count": 19,
   "id": "2f9e35d7",
   "metadata": {},
   "outputs": [],
   "source": [
    "X = final_df.iloc[:, : -1]\n",
    "y = final_df.iloc[:, -1]"
   ]
  },
  {
   "cell_type": "code",
   "execution_count": null,
   "id": "b7699da8",
   "metadata": {},
   "outputs": [],
   "source": []
  }
 ],
 "metadata": {
  "kernelspec": {
   "display_name": "Python 3 (ipykernel)",
   "language": "python",
   "name": "python3"
  },
  "language_info": {
   "codemirror_mode": {
    "name": "ipython",
    "version": 3
   },
   "file_extension": ".py",
   "mimetype": "text/x-python",
   "name": "python",
   "nbconvert_exporter": "python",
   "pygments_lexer": "ipython3",
   "version": "3.9.12"
  }
 },
 "nbformat": 4,
 "nbformat_minor": 5
}
